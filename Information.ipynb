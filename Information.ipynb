{
 "cells": [
  {
   "cell_type": "code",
   "execution_count": 1,
   "metadata": {},
   "outputs": [],
   "source": [
    "from src import (\n",
    "    Achievement,\n",
    "    AchievementDuration,\n",
    "    AchievementTime,\n",
    "    Basic,\n",
    "    Category,\n",
    "    Summary\n",
    ")\n",
    "from src.constants import (\n",
    "    ALL_ACTIVE,\n",
    "    ALL_INACTIVE,\n",
    "    NOT_RESUME,\n",
    "    ONLY_WEB,\n",
    ")"
   ]
  },
  {
   "cell_type": "markdown",
   "metadata": {},
   "source": [
    "# 1. Basic Information"
   ]
  },
  {
   "cell_type": "code",
   "execution_count": 2,
   "metadata": {},
   "outputs": [],
   "source": [
    "basic_params = {\n",
    "    'name': 'Kyung Hoi (Joseph) Min',\n",
    "    'title': 'Computational Biologist. Software Engineer.',\n",
    "    'email': 'kmin@caltech.edu',\n",
    "    'phone': '6262409851',\n",
    "    'introduction': 'SOME INTRODUCTION',\n",
    "    'links': {\n",
    "        'github': 'https://github.com/Lioscro',\n",
    "        'linkedin': 'https://www.linkedin.com/in/kyung-hoi-joseph-min-b68a12144/',\n",
    "        'website': 'https://lioscro.github.io/homepage/',\n",
    "    },\n",
    "}\n",
    "summary = Summary(**basic_params)"
   ]
  },
  {
   "cell_type": "markdown",
   "metadata": {},
   "source": [
    "# 2. Categorical Information"
   ]
  },
  {
   "cell_type": "markdown",
   "metadata": {},
   "source": [
    "## a. Education"
   ]
  },
  {
   "cell_type": "code",
   "execution_count": 3,
   "metadata": {},
   "outputs": [],
   "source": [
    "education_params = {\n",
    "    'name': 'Education',\n",
    "    'type': 'box',\n",
    "    'items': None,\n",
    "}\n",
    "education = Category(**education_params)"
   ]
  },
  {
   "cell_type": "markdown",
   "metadata": {},
   "source": [
    "### Caltech"
   ]
  },
  {
   "cell_type": "code",
   "execution_count": 4,
   "metadata": {},
   "outputs": [],
   "source": [
    "caltech_params = {\n",
    "    'name': 'Caltech',\n",
    "    'name_sub': 'BS in Biology and Computer Science',\n",
    "    'time_start': 'Sept 2016',\n",
    "    'time_end': None,\n",
    "    'location': 'Pasadena, CA',\n",
    "    'description': None,\n",
    "    'bullet': [\n",
    "        'Expected Graduation: Jun 2020',\n",
    "        'Cum. GPA: 4.0 / 4.0'\n",
    "    ],\n",
    "    'link': None,\n",
    "    'active': ALL_ACTIVE,\n",
    "}\n",
    "caltech = education.new_achievement_duration(**caltech_params)"
   ]
  },
  {
   "cell_type": "markdown",
   "metadata": {},
   "source": [
    "***"
   ]
  },
  {
   "cell_type": "markdown",
   "metadata": {},
   "source": [
    "## 2. Experience"
   ]
  },
  {
   "cell_type": "code",
   "execution_count": 5,
   "metadata": {},
   "outputs": [],
   "source": [
    "experience_params = {\n",
    "    'name': 'Experience',\n",
    "    'type': 'timeline',\n",
    "    'items': None,\n",
    "}\n",
    "experience = Category(**experience_params)"
   ]
  },
  {
   "cell_type": "markdown",
   "metadata": {},
   "source": [
    "### Sternberg Lab"
   ]
  },
  {
   "cell_type": "code",
   "execution_count": 6,
   "metadata": {},
   "outputs": [],
   "source": [
    "sternberg_params = {\n",
    "    'name': 'Sternberg Lab',\n",
    "    'name_sub': 'Undergraduate Researcher',\n",
    "    'time_start': 'Jan 2017',\n",
    "    'time_end': 'Jun 2019',\n",
    "    'location': 'Pasadena, CA',\n",
    "    'description': ('Worked with David Angeles PhD. and Prof Paul W. Sternberg '\n",
    "                    'on bioinformatics and molecular biology projects involving '\n",
    "                    'the model organism C. elegans, most notably Alaska (above).'),\n",
    "    'bullet': None,\n",
    "    'link': None,\n",
    "    'active': ALL_ACTIVE,\n",
    "}\n",
    "sternberg = experience.new_achievement_duration(**sternberg_params)"
   ]
  },
  {
   "cell_type": "markdown",
   "metadata": {},
   "source": [
    "### Ginkgo Bioworks"
   ]
  },
  {
   "cell_type": "code",
   "execution_count": 7,
   "metadata": {},
   "outputs": [],
   "source": [
    "ginkgo_params = {\n",
    "    'name': 'Ginkgo Bioworks',\n",
    "    'name_sub': 'Software Engineering Intern',\n",
    "    'time_start': 'Jun 2019',\n",
    "    'time_end': 'Sept 2019',\n",
    "    'location': 'Boston, MA',\n",
    "    'description': ('SOME DESCRIPTION'),\n",
    "    'bullet': None,\n",
    "    'link': None,\n",
    "    'active': ALL_ACTIVE,\n",
    "}\n",
    "ginkgo = experience.new_achievement_duration(**ginkgo_params)"
   ]
  },
  {
   "cell_type": "markdown",
   "metadata": {},
   "source": [
    "### Pachter Lab"
   ]
  },
  {
   "cell_type": "code",
   "execution_count": 8,
   "metadata": {},
   "outputs": [],
   "source": [
    "pachter_params = {\n",
    "    'name': 'Pachter Lab',\n",
    "    'name_sub': 'Undergraduate Researcher',\n",
    "    'time_start': 'Sept 2019',\n",
    "    'time_end': None,\n",
    "    'location': 'Pasadena, CA',\n",
    "    'description': ('SOME DESCRIPTION'),\n",
    "    'bullet': None,\n",
    "    'link': None,\n",
    "    'active': ALL_ACTIVE,\n",
    "}\n",
    "pachter = experience.new_achievement_duration(**pachter_params)"
   ]
  },
  {
   "cell_type": "markdown",
   "metadata": {},
   "source": [
    "***"
   ]
  },
  {
   "cell_type": "markdown",
   "metadata": {},
   "source": [
    "## 3. Projects"
   ]
  },
  {
   "cell_type": "code",
   "execution_count": 9,
   "metadata": {},
   "outputs": [],
   "source": [
    "projects_params = {\n",
    "    'name': 'Projects',\n",
    "    'type': 'card',\n",
    "    'items': None\n",
    "}\n",
    "projects = Category(**projects_params)"
   ]
  },
  {
   "cell_type": "markdown",
   "metadata": {},
   "source": [
    "### Expression Plotter"
   ]
  },
  {
   "cell_type": "code",
   "execution_count": 10,
   "metadata": {},
   "outputs": [],
   "source": [
    "expression_params = {\n",
    "    'name': 'Expression Plotter',\n",
    "    'name_sub': 'Software Developer',\n",
    "    'time_start': 'Jun 2017',\n",
    "    'time_end': 'Sept 2017',\n",
    "    'location': 'Pasadena, CA',\n",
    "    'description': None,\n",
    "    'bullet': [\n",
    "        'Continuous and binomial data analysis and plot generator in Python.',\n",
    "        'Implemented significance testing with bootstrapping.',\n",
    "        'Automatically generates boxplots, heatmaps, scatterplots of data.',\n",
    "        'Multithreaded; C-like performance with Numpy and Numba.',\n",
    "    ],\n",
    "    'link': 'https://github.com/WormLabCaltech/expression-plotter',\n",
    "    'active': ALL_ACTIVE,\n",
    "}\n",
    "expression = projects.new_achievement_duration(**expression_params)"
   ]
  },
  {
   "cell_type": "markdown",
   "metadata": {},
   "source": [
    "### Network Simulator"
   ]
  },
  {
   "cell_type": "code",
   "execution_count": 11,
   "metadata": {},
   "outputs": [],
   "source": [
    "network_params = {\n",
    "    'name': 'Network Simulator',\n",
    "    'name_sub': 'Networks Course Project',\n",
    "    'time_start': 'Oct 2018',\n",
    "    'time_end': 'Dec 2018',\n",
    "    'location': 'Pasadena, CA',\n",
    "    'description': None,\n",
    "    'bullet': [\n",
    "        'Event-based simulation of traffic in a network with arbitrary topology in Python.',\n",
    "        'Implemented TCP congestion control (Reno, FAST) algorithms.',\n",
    "        'Developed a UI with PyQt5 to easily set up, run, and visualize simulations.',\n",
    "    ],\n",
    "    'link': 'https://github.com/Lioscro/cs143-network-simulator',\n",
    "    'active': ALL_ACTIVE,\n",
    "}\n",
    "network = projects.new_achievement_duration(**network_params)"
   ]
  },
  {
   "cell_type": "markdown",
   "metadata": {},
   "source": [
    "### Alaska"
   ]
  },
  {
   "cell_type": "code",
   "execution_count": 12,
   "metadata": {},
   "outputs": [],
   "source": [
    "alaska_params = {\n",
    "    'name': 'Alaska',\n",
    "    'name_sub': 'Full-Stack Developer',\n",
    "    'time_start': 'Jan 2017',\n",
    "    'time_end': None,\n",
    "    'location': 'Pasadena, CA',\n",
    "    'description': None,\n",
    "    'bullet': [\n",
    "        'Full-stack developer - Wrote entire back-end server in Python, R, Bash; and front-end portal in Javascript, HTML/CSS, PHP.',\n",
    "        'Presented a poster at the 21st International C. elegans Conference.',\n",
    "        'Alpha version available at http://alaska.caltech.edu/ and source code on Github.',\n",
    "    ],\n",
    "    'link': 'http://alaska.caltech.edu',\n",
    "    'active': ALL_ACTIVE,\n",
    "}\n",
    "alaska = projects.new_achievement_duration(**alaska_params)"
   ]
  },
  {
   "cell_type": "markdown",
   "metadata": {},
   "source": [
    "***"
   ]
  },
  {
   "cell_type": "markdown",
   "metadata": {},
   "source": [
    "## 4. Skills"
   ]
  },
  {
   "cell_type": "code",
   "execution_count": 13,
   "metadata": {},
   "outputs": [],
   "source": [
    "skills_params = {\n",
    "    'name': 'Skills',\n",
    "    'type': 'list',\n",
    "    'items': [\n",
    "        Achievement('Python'),\n",
    "        Achievement('Docker'),\n",
    "        Achievement('Javascript'),\n",
    "        Achievement('React/Redux'),\n",
    "    ]\n",
    "}\n",
    "skills = Category(**skills_params)"
   ]
  },
  {
   "cell_type": "markdown",
   "metadata": {},
   "source": [
    "***\n",
    "## 5. Awards"
   ]
  },
  {
   "cell_type": "code",
   "execution_count": 14,
   "metadata": {},
   "outputs": [],
   "source": [
    "awards_params = {\n",
    "    'name': 'Awards',\n",
    "    'type': 'list',\n",
    "    'items': [\n",
    "        AchievementTime('2017 SURF Fellowship', time='Jun 2017'),\n",
    "        AchievementTime('2018 Samuel P. and Frances Krown SURF Fellowship', time='Jun 2018'),\n",
    "    ]\n",
    "}\n",
    "awards = Category(**awards_params)"
   ]
  },
  {
   "cell_type": "markdown",
   "metadata": {},
   "source": [
    "***\n",
    "## 6. Coursework"
   ]
  },
  {
   "cell_type": "code",
   "execution_count": 15,
   "metadata": {},
   "outputs": [],
   "source": [
    "coursework_params = {\n",
    "    'name': 'Coursework',\n",
    "    'type': 'nested',\n",
    "    'items': None\n",
    "}\n",
    "coursework = Category(**coursework_params)"
   ]
  },
  {
   "cell_type": "markdown",
   "metadata": {},
   "source": [
    "### Biology"
   ]
  },
  {
   "cell_type": "code",
   "execution_count": 16,
   "metadata": {},
   "outputs": [],
   "source": [
    "biology_params = {\n",
    "    'name': 'Biology',\n",
    "    'type': 'list',\n",
    "    'items': [\n",
    "        Achievement('Regulation of Gene Expression'),\n",
    "        Achievement('Cell Biology'),\n",
    "        Achievement('Genetics'),\n",
    "        Achievement('Systems Genetics'),\n",
    "        Achievement('Bioinformatics'),\n",
    "        Achievement('Biomolecular Computation'),\n",
    "    ]\n",
    "}\n",
    "biology = coursework.new_subcategory(**biology_params)"
   ]
  },
  {
   "cell_type": "markdown",
   "metadata": {},
   "source": [
    "### Computer Science"
   ]
  },
  {
   "cell_type": "code",
   "execution_count": 17,
   "metadata": {},
   "outputs": [],
   "source": [
    "cs_params = {\n",
    "    'name': 'Computer Science',\n",
    "    'type': 'list',\n",
    "    'items': [\n",
    "        Achievement('Programming Methods'),\n",
    "        Achievement('Decidability and Tractability'),\n",
    "        Achievement('Communication Networks'),\n",
    "        Achievement('Systems Genetics'),\n",
    "        Achievement('Algorithms'),\n",
    "        Achievement('Learning Systems'),\n",
    "    ]\n",
    "}\n",
    "cs = coursework.new_subcategory(**cs_params)"
   ]
  },
  {
   "cell_type": "markdown",
   "metadata": {},
   "source": [
    "***"
   ]
  },
  {
   "cell_type": "markdown",
   "metadata": {},
   "source": [
    "## 7. Extracurriculars"
   ]
  },
  {
   "cell_type": "code",
   "execution_count": 18,
   "metadata": {},
   "outputs": [],
   "source": [
    "extracurriculars_params = {\n",
    "    'name': 'Extracurriculars',\n",
    "    'type': 'box',\n",
    "    'items': None\n",
    "}\n",
    "extracurriculars = Category(**extracurriculars_params)"
   ]
  },
  {
   "cell_type": "markdown",
   "metadata": {},
   "source": [
    "### Yearbook"
   ]
  },
  {
   "cell_type": "code",
   "execution_count": 19,
   "metadata": {},
   "outputs": [],
   "source": [
    "yearbook_params = {\n",
    "    'name': 'Yearbook',\n",
    "    'name_sub': 'Business Manager, Designer, Photographer',\n",
    "    'time_start': 'Sept 2016',\n",
    "    'time_end': None,\n",
    "    'location': 'Pasadena, CA',\n",
    "    'description': ('Established a new advertisement system, shared cloud storage system, job '\n",
    "                    'organization and assignment system, and payment reimbursement system. Designed '\n",
    "                    'pages and took/edited photos with Adobe software.'),\n",
    "    'bullet': None,\n",
    "    'link': None,\n",
    "    'active': ALL_ACTIVE,\n",
    "}\n",
    "yearbook = extracurriculars.new_achievement_duration(**yearbook_params)"
   ]
  },
  {
   "cell_type": "markdown",
   "metadata": {},
   "source": [
    "### Health Advocate"
   ]
  },
  {
   "cell_type": "code",
   "execution_count": 20,
   "metadata": {},
   "outputs": [],
   "source": [
    "advocate_params = {\n",
    "    'name': 'Health Advocate',\n",
    "    'name_sub': 'Emergency Medical Responder',\n",
    "    'time_start': 'Sept 2017',\n",
    "    'time_end': None,\n",
    "    'location': 'Pasadena, CA',\n",
    "    'description': ('American Red Cross certified emergency medical responder and basic life support '\n",
    "                    'provider. Worked as the dormitory health advocate and provided first aid to students.'),\n",
    "    'bullet': None,\n",
    "    'link': None,\n",
    "    'active': ALL_ACTIVE,\n",
    "}\n",
    "advocate = extracurriculars.new_achievement_duration(**advocate_params)"
   ]
  },
  {
   "cell_type": "markdown",
   "metadata": {},
   "source": [
    "### Student Government"
   ]
  },
  {
   "cell_type": "code",
   "execution_count": 21,
   "metadata": {},
   "outputs": [],
   "source": [
    "government_params = {\n",
    "    'name': 'Student Government',\n",
    "    'name_sub': 'Lloyd House Historian',\n",
    "    'time_start': 'Jun 2017',\n",
    "    'time_end': 'May 2019',\n",
    "    'location': 'Pasadena, CA',\n",
    "    'description': ('Recorded Lloyd House (dormitory) events by taking photos. Established a new '\n",
    "                    'shared cloud storage system for the house to distribute these photos.'),\n",
    "    'bullet': None,\n",
    "    'link': None,\n",
    "    'active': ALL_ACTIVE,\n",
    "}\n",
    "government = extracurriculars.new_achievement_duration(**government_params)"
   ]
  },
  {
   "cell_type": "markdown",
   "metadata": {},
   "source": [
    "***"
   ]
  },
  {
   "cell_type": "markdown",
   "metadata": {},
   "source": [
    "# 3. Output Summary"
   ]
  },
  {
   "cell_type": "code",
   "execution_count": 22,
   "metadata": {},
   "outputs": [],
   "source": [
    "summary.categories = [\n",
    "    experience,\n",
    "    projects,\n",
    "    education,\n",
    "    coursework,\n",
    "    extracurriculars,\n",
    "    awards,\n",
    "    skills,\n",
    "]\n",
    "summary.to_json()"
   ]
  },
  {
   "cell_type": "code",
   "execution_count": null,
   "metadata": {},
   "outputs": [],
   "source": []
  }
 ],
 "metadata": {
  "kernelspec": {
   "display_name": "Python 3",
   "language": "python",
   "name": "python3"
  },
  "language_info": {
   "codemirror_mode": {
    "name": "ipython",
    "version": 3
   },
   "file_extension": ".py",
   "mimetype": "text/x-python",
   "name": "python",
   "nbconvert_exporter": "python",
   "pygments_lexer": "ipython3",
   "version": "3.7.3"
  }
 },
 "nbformat": 4,
 "nbformat_minor": 2
}
